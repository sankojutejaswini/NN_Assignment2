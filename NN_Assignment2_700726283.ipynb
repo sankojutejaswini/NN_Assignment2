{
 "cells": [
  {
   "cell_type": "code",
   "execution_count": 1,
   "id": "9e8e633f",
   "metadata": {},
   "outputs": [
    {
     "name": "stdout",
     "output_type": "stream",
     "text": [
      "Enter First name  Tejaswini\n",
      "Enter Last name  Sankoju\n",
      "Full name is : TejaswiniSankoju\n"
     ]
    }
   ],
   "source": [
    "First_name = input(\"Enter First name  \");  #Taking first name from user\n",
    "Last_name = input(\"Enter Last name  \");    #Taking last name from user\n",
    "Full_name =  First_name + Last_name      #concatenating first and last name using + symbol\n",
    "print(\"Full name is :\", Full_name);      #printing full name"
   ]
  },
  {
   "cell_type": "code",
   "execution_count": 4,
   "id": "7237fc63",
   "metadata": {},
   "outputs": [
    {
     "name": "stdout",
     "output_type": "stream",
     "text": [
      "Enter first name: Good\n",
      "Enter last name: Evening\n",
      "Alternative name is: Go vnn\n"
     ]
    }
   ],
   "source": [
    "def fullname(firstName, lastName):\n",
    "    return firstName + \" \" + lastName   #defining first and last name\n",
    "\n",
    "def string_alternative(name):           #using string_alternative function and returning name\n",
    "    return name[::2]\n",
    "\n",
    "def main():\n",
    "    firstName = input(\"Enter first name: \")     #entering first name\n",
    "    lastName = input(\"Enter last name: \")       #entering last name\n",
    "    fullName = fullname(firstName, lastName)    #defining full name\n",
    "    alternative_string = string_alternative(fullName)\n",
    "    print(\"Alternative name is:\", alternative_string)\n",
    "    \n",
    "if __name__ == \"__main_\":   \n",
    "    main()"
   ]
  },
  {
   "cell_type": "code",
   "execution_count": 12,
   "id": "8d6f6aa0",
   "metadata": {},
   "outputs": [
    {
     "name": "stdout",
     "output_type": "stream",
     "text": [
      "Python Course\n",
      " Deep Learning Course\n",
      "Number of words in the file:\n",
      " Counter({'Course': 2, 'Python': 1, 'Deep': 1, 'Learning': 1})\n"
     ]
    }
   ],
   "source": [
    "f=open(\"input.txt\",\"w\")  #opening file with write mode\n",
    "f.write(\"Python Course\\n\")  #writing first line \n",
    "f.write(\" Deep Learning Course\") #writing secomd line into file\n",
    "f.close() #closing file after writing\n",
    "f=open(\"input.txt\",\"r\") #opening file with read mode\n",
    "print(f.read()) #reading that file\n",
    "f.close()  # closing file after freading\n",
    "\n",
    "from collections import Counter  #importing Counter from collections library\n",
    "def count_words(filename):   #defining count_words function by taking file as argument\n",
    "    with open(filename) as f: \n",
    "        return Counter(f.read().split())  #reading the input file and split every word in file and count words\n",
    "\n",
    "with open(\"output.txt\",\"a\") as f:  #opening new outputfile and sending output of returned function to output file\n",
    "    print(\"Number of words in the file:\\n\", count_words(\"input.txt\"))     #printing output"
   ]
  },
  {
   "cell_type": "code",
   "execution_count": 13,
   "id": "80458781",
   "metadata": {},
   "outputs": [
    {
     "name": "stdout",
     "output_type": "stream",
     "text": [
      "heights of customers in inches is [96, 106, 156, 148]\n",
      "height of customers in centimetres is  [243.84, 269.24, 396.24, 375.92]\n"
     ]
    }
   ],
   "source": [
    "heights=[96,106, 156, 148]   #list with heights of customers in inches\n",
    "print(\"heights of customers in inches is\",heights)  #printimg them in inches\n",
    "newlist=[each_value_in_list*2.54 for each_value_in_list in heights]  #for each value in heights list , converting inches to centimetres using formula\n",
    "print(\"height of customers in centimetres is \",newlist)  #printing ne list in centimetres"
   ]
  }
 ],
 "metadata": {
  "kernelspec": {
   "display_name": "Python 3 (ipykernel)",
   "language": "python",
   "name": "python3"
  },
  "language_info": {
   "codemirror_mode": {
    "name": "ipython",
    "version": 3
   },
   "file_extension": ".py",
   "mimetype": "text/x-python",
   "name": "python",
   "nbconvert_exporter": "python",
   "pygments_lexer": "ipython3",
   "version": "3.9.7"
  }
 },
 "nbformat": 4,
 "nbformat_minor": 5
}
